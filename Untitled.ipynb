{
 "cells": [
  {
   "cell_type": "code",
   "execution_count": 1,
   "id": "1a263514",
   "metadata": {},
   "outputs": [],
   "source": [
    "import cv2 as cv\n"
   ]
  },
  {
   "cell_type": "code",
   "execution_count": 2,
   "id": "7c8255e0",
   "metadata": {},
   "outputs": [],
   "source": [
    "face_detect = cv.CascadeClassifier('classifier/haarcascade_frontalface_default.xml')\n",
    "eye_detect = cv.CascadeClassifier('classifier/haarcascade_eye_tree_eyeglasses.xml')"
   ]
  },
  {
   "cell_type": "code",
   "execution_count": 3,
   "id": "b7e9f1f7",
   "metadata": {},
   "outputs": [],
   "source": [
    "def detect(gray,frame):\n",
    "    face = face_detect.detectMultiScale(gray)\n",
    "    \n",
    "\n",
    "    for (x,y,w,h) in face:\n",
    "        cv.rectangle(frame,(x,y),(x+w,y+h),(127,0,255),2)\n",
    "        roi_gray = gray[y:y+h,x:x+w]\n",
    "#         eye = eye_detect.detectMultiScale(roi_gray)\n",
    "#         for (ex,ey,ew,eh) in eye:\n",
    "#             cv.rectangle(frame,(ex,ey),(ex+ew,ey+eh),(127,0,255),2)\n",
    "    return frame"
   ]
  },
  {
   "cell_type": "code",
   "execution_count": 4,
   "id": "d6532aec",
   "metadata": {},
   "outputs": [
    {
     "name": "stdout",
     "output_type": "stream",
     "text": [
      "Changed waitThread to realtime priority!\n",
      "Asked for all format descriptions...\n",
      "Asked for all format descriptions...\n",
      "[setting] Setting kCMIODevicePropertyDeviceMaster to 3725\n",
      "[setting] Setting kCMIOStreamPropertyFormatDescription\n",
      "Got new format : 1920x1080\n",
      "Asked for all format descriptions...\n",
      "[setting] Setting kCMIODevicePropertyDeviceMaster to -1\n",
      "[setting] Setting kCMIODevicePropertyDeviceMaster to 3725\n",
      "[setting] Setting kCMIODevicePropertyDeviceMaster to -1\n",
      "Asked for all format descriptions...\n",
      "[RemoteFrameSource] Releasing RemoteFrameSource\n",
      "[RemoteFrameSource] Releasing RemoteFrameSource\n"
     ]
    },
    {
     "data": {
      "text/plain": [
       "-1"
      ]
     },
     "execution_count": 4,
     "metadata": {},
     "output_type": "execute_result"
    }
   ],
   "source": [
    "videoCapture = cv.VideoCapture(0)\n",
    "while True:\n",
    "    _,frame = videoCapture.read()\n",
    "    gray = cv.cvtColor(frame,cv.COLOR_BGR2GRAY)\n",
    "    canvas = detect(gray,frame)\n",
    "    cv.imshow(\"Video\",frame)\n",
    "    if cv.waitKey(1) & 0xFF ==ord('q'):\n",
    "        break\n",
    "videoCapture.release()\n",
    "cv.destroyAllWindows()\n",
    "cv.waitKey(1)"
   ]
  },
  {
   "cell_type": "code",
   "execution_count": null,
   "id": "69b1283c",
   "metadata": {},
   "outputs": [],
   "source": [
    "## Face Detection \n",
    "\n"
   ]
  }
 ],
 "metadata": {
  "kernelspec": {
   "display_name": "Python 3 (ipykernel)",
   "language": "python",
   "name": "python3"
  },
  "language_info": {
   "codemirror_mode": {
    "name": "ipython",
    "version": 3
   },
   "file_extension": ".py",
   "mimetype": "text/x-python",
   "name": "python",
   "nbconvert_exporter": "python",
   "pygments_lexer": "ipython3",
   "version": "3.7.16"
  }
 },
 "nbformat": 4,
 "nbformat_minor": 5
}
